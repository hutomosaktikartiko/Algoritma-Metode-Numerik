{
 "cells": [
  {
   "cell_type": "code",
   "execution_count": null,
   "metadata": {},
   "outputs": [],
   "source": [
    "from tabulate import tabulate\n",
    "from math import *\n",
    "def f(x, p):\n",
    "    return (eval(p))\n",
    "def change_equation(p):\n",
    "    if (p.find(\"^\")):\n",
    "        return p.replace(\"^\", \"**\")\n",
    "def conclusion(n, error, root):\n",
    "    print(\"\\nKesimpulan :\")\n",
    "    print(\"Karena pada iterasi ke-{} nilai ERROR lebih kecil dari {} \\n\".format(n, error)\n",
    "            + \"Maka iterasi dihentikan dan diperoleh solusi persamaan non linier \"\n",
    "            + \"yang diinginkan yaitu APROKSIMASI AKAR = {:.6f}\".format(root), end=\"\\n\\n\")\n",
    "def show(body, head):\n",
    "    print(tabulate(body, headers=head, floatfmt=\".6f\"))\n",
    "def secant(p):\n",
    "    print(\"Metode Secant\", end=\"\\n\\n\")\n",
    "    print(\"Persamaan : {}\".format(p))\n",
    "    equation = change_equation(p)\n",
    "    tolerance = float(input(\"Masukkan toleransi error : \"))\n",
    "    print()\n",
    "    result = []\n",
    "    i = 1\n",
    "\n",
    "    a = float(input(\"Batas bawah : \"))\n",
    "    b = float(input(\"Batas atas : \"))\n",
    "    print()\n",
    "\n",
    "    while True:\n",
    "        fa = f(a, equation)\n",
    "        fb = f(b, equation)\n",
    "\n",
    "        c = b - (fb*(b - a) / (fb - fa))\n",
    "        fc = f(c, equation)\n",
    "\n",
    "        e = abs((c - b) / c)\n",
    "\n",
    "        result.append([i, a, b, c, fa, fb, fc, e])\n",
    "\n",
    "        if (e < tolerance):\n",
    "            show(result, [\"i\", \"a\", \"b\", \"c\", \"f(a)\", \"f(b)\", \"f(c)\", \"e\"])\n",
    "            conclusion(i, tolerance, c)\n",
    "            break\n",
    "\n",
    "        a, b = b, c\n",
    "\n",
    "        i += 1\n",
    "\n",
    "equation = input(\"Masukkan persamaan : \")\n",
    "secant(equation)"
   ]
  }
 ],
 "metadata": {
  "kernelspec": {
   "display_name": "Python 3",
   "language": "python",
   "name": "python3"
  },
  "language_info": {
   "codemirror_mode": {
    "name": "ipython",
    "version": 3
   },
   "file_extension": ".py",
   "mimetype": "text/x-python",
   "name": "python",
   "nbconvert_exporter": "python",
   "pygments_lexer": "ipython3",
   "version": "3.8.3"
  }
 },
 "nbformat": 4,
 "nbformat_minor": 4
}
