{
 "cells": [
  {
   "cell_type": "code",
   "execution_count": 40,
   "metadata": {},
   "outputs": [
    {
     "name": "stdout",
     "output_type": "stream",
     "text": [
      "Iterasi : 1, 7.416666666666667\n",
      "Iterasi : 2, 5.056647940074907\n",
      "Iterasi : 3, 4.505918637197902\n",
      "Iterasi : 4, 4.472262596169605\n",
      "Iterasi : 5, 4.47213595679263\n",
      "\n",
      "Jumlah iterasi :  6\n",
      "Hasil akhir :  4.47213595679263\n",
      "None\n"
     ]
    }
   ],
   "source": [
    "def f1(x):\n",
    "    return x ** 2 - 20\n",
    "\n",
    "def det_f1(x):\n",
    "    return 2 * x\n",
    "\n",
    "def newton_raphson(func, d_func, x, tolerence, max_iterations, real_root=None):\n",
    "    if d_func(x) == 0:\n",
    "        print(\"Newton-Raphson gagal dijalankan.\")\n",
    "        return None\n",
    "    else:\n",
    "        iterations = 1\n",
    "        while abs(func(x) / d_func(x)) >= tolerence and iterations <= max_iterations:\n",
    "            current_iteration_print = \"Iterasi : {0}\".format(iterations)\n",
    "            if func(x) == 0:\n",
    "                print(current_iteration_print + \"Solusi ditemukan : {0}\".format(x))\n",
    "                return x\n",
    "            \n",
    "            x = x - func(x) / d_func(x)\n",
    "            if d_func(x) == 0:\n",
    "                print(\"Newton-Raphson gagal dijalankan.\")\n",
    "                return None\n",
    "            current_iteration_print += \", {0}\".format(x)\n",
    "            iterations = iterations + 1\n",
    "            \n",
    "            print(current_iteration_print)\n",
    "        \n",
    "        print(\"\\nJumlah iterasi : \",iterations)\n",
    "        print(\"Hasil akhir : \", x)\n",
    "\n",
    "        \n",
    "print(newton_raphson(f1, det_f1, 1.5, 0.00001, 30, 1))"
   ]
  }
 ],
 "metadata": {
  "kernelspec": {
   "display_name": "Python 3",
   "language": "python",
   "name": "python3"
  },
  "language_info": {
   "codemirror_mode": {
    "name": "ipython",
    "version": 3
   },
   "file_extension": ".py",
   "mimetype": "text/x-python",
   "name": "python",
   "nbconvert_exporter": "python",
   "pygments_lexer": "ipython3",
   "version": "3.8.3"
  }
 },
 "nbformat": 4,
 "nbformat_minor": 4
}
