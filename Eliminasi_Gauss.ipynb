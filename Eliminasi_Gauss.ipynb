{
 "cells": [
  {
   "cell_type": "code",
   "execution_count": 1,
   "metadata": {},
   "outputs": [
    {
     "name": "stdout",
     "output_type": "stream",
     "text": [
      "Masukkan ordo matrix : 3\n",
      "Masukkan persamaan ke-1\n",
      "Masukkan angka baris-1 kolom-1: 1\n",
      "Masukkan angka baris-1 kolom-2: 2\n",
      "Masukkan angka baris-1 kolom-3: 3\n",
      "Masukkan angka baris-1 kolom-4: 3\n",
      "Masukkan persamaan ke-2\n",
      "Masukkan angka baris-2 kolom-1: 2\n",
      "Masukkan angka baris-2 kolom-2: 3\n",
      "Masukkan angka baris-2 kolom-3: 2\n",
      "Masukkan angka baris-2 kolom-4: 3\n",
      "Masukkan persamaan ke-3\n",
      "Masukkan angka baris-3 kolom-1: 2\n",
      "Masukkan angka baris-3 kolom-2: 1\n",
      "Masukkan angka baris-3 kolom-3: 2\n",
      "Masukkan angka baris-3 kolom-4: 5\n",
      "1.00 2.00 3.00 3.00 \n",
      "\n",
      "-0.00 1.00 4.00 3.00 \n",
      "\n",
      "0.00 0.00 1.00 1.00 \n",
      "\n",
      "x1= 2.00 \n",
      "x2= -1.00 \n",
      "x3= 1.00\n"
     ]
    }
   ],
   "source": [
    "ordo = int(input(\"Masukkan ordo matrix : \"))\n",
    "baris = ordo\n",
    "kolom = ordo+1\n",
    "\n",
    "A = []\n",
    "for i in range(baris):\n",
    "    matrix=[]\n",
    "    for j in range(kolom):\n",
    "        matrix.append(0)\n",
    "    A.append(matrix)\n",
    "\n",
    "for i in range(baris):\n",
    "    print(\"Masukkan persamaan ke-%d\" % (i + 1))\n",
    "    for j in range(0, kolom):\n",
    "        A[i][j] = int(input(f\"Masukkan angka baris-{i+1} kolom-{j+1}: \"))\n",
    "\n",
    "for i in range(baris):\n",
    "    diag = A[i][i]\n",
    "    for j in range(kolom):\n",
    "        A[i][j] /= diag\n",
    "    for k in range(i + 1, kolom):\n",
    "        if k != baris:\n",
    "            diag1 = A[k][i]\n",
    "            for j in range(0, kolom):\n",
    "                A[k][j] = A[k][j] - diag1 * A[i][j]\n",
    "\n",
    "for i in range(0, baris):\n",
    "    for j in range(0, kolom):\n",
    "            print(\"%4.2f\" % (A[i][j]), end=\" \")\n",
    "    print(\"\\n\")\n",
    "\n",
    "x3 = A[2][3]\n",
    "x2 = A[1][3] - A[1][2]*x3\n",
    "x1 = A[0][3] - A[0][2]*x3 - A[0][1]*x2\n",
    "print(\"x1= %4.2f \\nx2= %4.2f \\nx3= %4.2f\" % (x1, x2, x3))"
   ]
  },
  {
   "cell_type": "code",
   "execution_count": null,
   "metadata": {},
   "outputs": [],
   "source": []
  }
 ],
 "metadata": {
  "kernelspec": {
   "display_name": "Python 3",
   "language": "python",
   "name": "python3"
  },
  "language_info": {
   "codemirror_mode": {
    "name": "ipython",
    "version": 3
   },
   "file_extension": ".py",
   "mimetype": "text/x-python",
   "name": "python",
   "nbconvert_exporter": "python",
   "pygments_lexer": "ipython3",
   "version": "3.8.3"
  }
 },
 "nbformat": 4,
 "nbformat_minor": 4
}
